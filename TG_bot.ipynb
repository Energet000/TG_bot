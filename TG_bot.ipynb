{
 "cells": [
  {
   "cell_type": "code",
   "execution_count": 35,
   "metadata": {},
   "outputs": [],
   "source": [
    "import random \n",
    "import nltk"
   ]
  },
  {
   "cell_type": "code",
   "execution_count": 48,
   "metadata": {},
   "outputs": [],
   "source": [
    "BOT_CONFIG = {\n",
    "    'intents': {\n",
    "        'hello': {\n",
    "            'examples': ['Привет', 'Добрый день','Доброе утро', 'Здравтсвуйте', 'Шалом','Кукусики'],\n",
    "            'responses' : ['Привет','Здравствуйте']\n",
    "        },\n",
    "        'bye' : {\n",
    "            'examples': ['Пока', 'Досвидания', 'До свидания', 'Прощайте'],\n",
    "            'responses' : ['Еще увидимся', 'До новых встреч']\n",
    "        },\n",
    "    },\n",
    "    'failure_phrases': ['Не понятно.Перефразируйте','Я еще только учусь, не умею на такое отвечать']\n",
    "}"
   ]
  },
  {
   "cell_type": "code",
   "execution_count": 37,
   "metadata": {},
   "outputs": [],
   "source": [
    "def clear_text(text):\n",
    "    text = text.lower()\n",
    "    text = ''.join(char for char in text if char in 'абвгдеёжзийклмнопрстуфхцчшщъюьэюя -')\n",
    "    return text"
   ]
  },
  {
   "cell_type": "code",
   "execution_count": 38,
   "metadata": {},
   "outputs": [
    {
     "data": {
      "text/plain": [
       "'bye'"
      ]
     },
     "execution_count": 38,
     "metadata": {},
     "output_type": "execute_result"
    }
   ],
   "source": [
    "def classify_intent(replica):\n",
    "    replica = clear_text(replica)\n",
    "    \n",
    "    for intent, intent_data in BOT_CONFIG['intents'].items():\n",
    "        for example in intent_data['examples']:\n",
    "            example = clear_text(example)\n",
    "            \n",
    "            distance = nltk.edit_distance(replica,example)\n",
    "                        \n",
    "            if distance / len(replica) < 0.3:\n",
    "                return intent\n",
    "            \n",
    "classify_intent('досвидния!')"
   ]
  },
  {
   "cell_type": "code",
   "execution_count": 39,
   "metadata": {},
   "outputs": [],
   "source": [
    "def get_answer_by_intent(intent):\n",
    "    if intent in BOT_CONFIG['intents']:\n",
    "        responses = BOT_CONFIG['intents'][intent]['responses']\n",
    "        return random.choice(responses)"
   ]
  },
  {
   "cell_type": "code",
   "execution_count": 40,
   "metadata": {},
   "outputs": [],
   "source": [
    "def generate_answer(replica):\n",
    "    return"
   ]
  },
  {
   "cell_type": "code",
   "execution_count": 41,
   "metadata": {},
   "outputs": [],
   "source": [
    "def get_stub():\n",
    "    failure_phrases = BOT_CONFIG['failure_phrases']\n",
    "    return random.choice(failure_phrases)"
   ]
  },
  {
   "cell_type": "code",
   "execution_count": 46,
   "metadata": {},
   "outputs": [],
   "source": [
    "def bot(replica):\n",
    "    #NLU\n",
    "    intent = classify_intent(replica)\n",
    "    \n",
    "    if intent:\n",
    "        answer = get_answer_by_intent(intent)\n",
    "        if answer:\n",
    "            return answer\n",
    "        \n",
    "    answer = generate_answer(replica)\n",
    "    if answer:\n",
    "        return answer\n",
    "    \n",
    "    answer = get_stub()\n",
    "    return answer"
   ]
  },
  {
   "cell_type": "code",
   "execution_count": 50,
   "metadata": {},
   "outputs": [
    {
     "name": "stdout",
     "output_type": "stream",
     "text": [
      "Здравствуйте\n"
     ]
    }
   ],
   "source": [
    "print(bot('Привет'))"
   ]
  },
  {
   "cell_type": "code",
   "execution_count": null,
   "metadata": {},
   "outputs": [],
   "source": []
  },
  {
   "cell_type": "code",
   "execution_count": null,
   "metadata": {},
   "outputs": [],
   "source": []
  }
 ],
 "metadata": {
  "kernelspec": {
   "display_name": "Python 3",
   "language": "python",
   "name": "python3"
  },
  "language_info": {
   "codemirror_mode": {
    "name": "ipython",
    "version": 3
   },
   "file_extension": ".py",
   "mimetype": "text/x-python",
   "name": "python",
   "nbconvert_exporter": "python",
   "pygments_lexer": "ipython3",
   "version": "3.7.6"
  }
 },
 "nbformat": 4,
 "nbformat_minor": 4
}
